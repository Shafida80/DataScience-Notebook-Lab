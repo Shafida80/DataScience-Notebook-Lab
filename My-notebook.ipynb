{
 "cells": [
  {
   "attachments": {},
   "cell_type": "markdown",
   "id": "8b65eb80-40e2-4c79-a06d-a8eb03c5dde0",
   "metadata": {},
   "source": [
    "# Notebook"
   ]
  },
  {
   "cell_type": "markdown",
   "id": "61a57a7e-fc36-407c-aef5-b98a23e19309",
   "metadata": {},
   "source": [
    "## Introduction\n",
    "This is an Introduction to Data Science Course"
   ]
  },
  {
   "cell_type": "markdown",
   "id": "018b4557-9e1a-4c20-8f36-66495db36627",
   "metadata": {},
   "source": [
    "## Some of Data Science Langages:\n",
    "1. Python\n",
    "2. R\n",
    "3. SQL"
   ]
  },
  {
   "cell_type": "markdown",
   "id": "ed683e99-b824-4a31-a2e7-79f7096fd309",
   "metadata": {},
   "source": [
    "## Some of Data Science Libraries\n",
    "- Tensorflow\n",
    "- Pytorch\n",
    "- scklearn\n"
   ]
  },
  {
   "cell_type": "markdown",
   "id": "d26ae6fb-d031-438c-90e6-21698d6fb6bd",
   "metadata": {},
   "source": [
    "## Some of Data Science Tools\n",
    "| Data Science Tools | \n",
    "| -------------| \n",
    "| Jupyter Notebook | \n",
    "| JupyterLab | \n",
    "| Anaconda | "
   ]
  },
  {
   "cell_type": "markdown",
   "id": "41220485-da67-41a1-9bfe-f01844818db6",
   "metadata": {},
   "source": [
    "### Below are a few examples of evaluating arithmetic expressions in Python"
   ]
  },
  {
   "cell_type": "code",
   "execution_count": 9,
   "id": "f47c0656-df6b-4bf0-ad5c-a328bc48c419",
   "metadata": {},
   "outputs": [
    {
     "data": {
      "text/plain": [
       "570"
      ]
     },
     "execution_count": 9,
     "metadata": {},
     "output_type": "execute_result"
    }
   ],
   "source": [
    "# This a simple arithmetic expression to mutiply then add integers\n",
    "(13*40)+50"
   ]
  },
  {
   "cell_type": "code",
   "execution_count": 14,
   "id": "9c3c7b69-bb87-4388-8f7a-f2517dfdd48e",
   "metadata": {},
   "outputs": [
    {
     "name": "stdin",
     "output_type": "stream",
     "text": [
      "Enter the number of minutes:  360\n"
     ]
    },
    {
     "name": "stdout",
     "output_type": "stream",
     "text": [
      "360.0 minutes is equal to 6.0 hours.\n"
     ]
    }
   ],
   "source": [
    "# This will convert 200 minutes to hours by diving by 60\n",
    "minutes = float(input(\"Enter the number of minutes: \"))\n",
    "hours = minutes / 60\n",
    "print(f\"{minutes} minutes is equal to {hours} hours.\")"
   ]
  },
  {
   "cell_type": "markdown",
   "id": "7df0879a-5a2c-4039-a8a1-dc49a63c5848",
   "metadata": {},
   "source": [
    "## Objectives\n",
    "* Data Science\n",
    "* Data Analyst\n",
    "* Data engineer"
   ]
  },
  {
   "cell_type": "markdown",
   "id": "53efe533-dd65-41eb-b50e-9d43a17ab349",
   "metadata": {},
   "source": [
    "### Author\n",
    "HAFIDA SAIDI"
   ]
  },
  {
   "cell_type": "code",
   "execution_count": null,
   "id": "80318be3-d904-4e94-ab8d-6b8390dba89c",
   "metadata": {},
   "outputs": [],
   "source": []
  }
 ],
 "metadata": {
  "kernelspec": {
   "display_name": "Python 3 (ipykernel)",
   "language": "python",
   "name": "python3"
  },
  "language_info": {
   "codemirror_mode": {
    "name": "ipython",
    "version": 3
   },
   "file_extension": ".py",
   "mimetype": "text/x-python",
   "name": "python",
   "nbconvert_exporter": "python",
   "pygments_lexer": "ipython3",
   "version": "3.11.8"
  }
 },
 "nbformat": 4,
 "nbformat_minor": 5
}
